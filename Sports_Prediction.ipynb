{
  "cells": [
    {
      "cell_type": "markdown",
      "metadata": {
        "id": "X23olJlm0wL8"
      },
      "source": [
        "## Loading the dataset"
      ]
    },
    {
      "cell_type": "code",
      "execution_count": null,
      "metadata": {
        "id": "IR4skVJyIseb"
      },
      "outputs": [],
      "source": [
        "import numpy as np  \n",
        "import pandas as pd\n",
        "from matplotlib import pyplot as plt\n",
        "import seaborn as sns\n",
        "from google.colab import files\n"
      ]
    },
    {
      "cell_type": "code",
      "execution_count": null,
      "metadata": {
        "colab": {
          "base_uri": "https://localhost:8080/"
        },
        "id": "bzuMmFZ7560F",
        "outputId": "57a2c02f-95f2-4529-ca8d-037d1bcce34e"
      },
      "outputs": [
        {
          "name": "stdout",
          "output_type": "stream",
          "text": [
            "Drive already mounted at /content/drive; to attempt to forcibly remount, call drive.mount(\"/content/drive\", force_remount=True).\n"
          ]
        }
      ],
      "source": [
        "from google.colab import drive\n",
        "drive.mount('/content/drive')"
      ]
    },
    {
      "cell_type": "code",
      "execution_count": null,
      "metadata": {
        "colab": {
          "base_uri": "https://localhost:8080/"
        },
        "id": "e6VLjKEn_D30",
        "outputId": "94cdc5dd-f4f3-4403-a23c-de01c47b3514"
      },
      "outputs": [
        {
          "name": "stderr",
          "output_type": "stream",
          "text": [
            "/usr/local/lib/python3.9/dist-packages/IPython/core/interactiveshell.py:3326: DtypeWarning: Columns (25,108) have mixed types.Specify dtype option on import or set low_memory=False.\n",
            "  exec(code_obj, self.user_global_ns, self.user_ns)\n"
          ]
        }
      ],
      "source": [
        "players_df = pd.read_csv('/content/drive/MyDrive/players_22.csv')"
      ]
    },
    {
      "cell_type": "markdown",
      "metadata": {
        "id": "ZdlvtO1j06I5"
      },
      "source": [
        "## Exploring the Dataset"
      ]
    },
    {
      "cell_type": "code",
      "execution_count": null,
      "metadata": {
        "colab": {
          "base_uri": "https://localhost:8080/"
        },
        "id": "l9LvmYeBb764",
        "outputId": "7f040ab3-1c6f-4565-dc16-37d1bbb56aad"
      },
      "outputs": [
        {
          "name": "stdout",
          "output_type": "stream",
          "text": [
            "<class 'pandas.core.frame.DataFrame'>\n",
            "RangeIndex: 19239 entries, 0 to 19238\n",
            "Columns: 110 entries, sofifa_id to nation_flag_url\n",
            "dtypes: float64(16), int64(44), object(50)\n",
            "memory usage: 16.1+ MB\n"
          ]
        }
      ],
      "source": [
        "#Overall info on the dataset\n",
        "players_df.info()"
      ]
    },
    {
      "cell_type": "code",
      "execution_count": null,
      "metadata": {
        "colab": {
          "base_uri": "https://localhost:8080/"
        },
        "id": "6ukR0Iz9b79n",
        "outputId": "c9fe62bb-eb14-4635-8994-4ffc90aa6ddd"
      },
      "outputs": [
        {
          "data": {
            "text/plain": [
              "Index(['sofifa_id', 'player_url', 'short_name', 'long_name',\n",
              "       'player_positions', 'overall', 'potential', 'value_eur', 'wage_eur',\n",
              "       'age',\n",
              "       ...\n",
              "       'lcb', 'cb', 'rcb', 'rb', 'gk', 'player_face_url', 'club_logo_url',\n",
              "       'club_flag_url', 'nation_logo_url', 'nation_flag_url'],\n",
              "      dtype='object', length=110)"
            ]
          },
          "execution_count": 51,
          "metadata": {},
          "output_type": "execute_result"
        }
      ],
      "source": [
        "#columns of the dataset\n",
        "players_df.columns"
      ]
    },
    {
      "cell_type": "code",
      "execution_count": null,
      "metadata": {
        "colab": {
          "base_uri": "https://localhost:8080/"
        },
        "id": "LeR1WWY8b8AQ",
        "outputId": "cfe1c783-2b34-40fc-f733-461b6e956ec6"
      },
      "outputs": [
        {
          "data": {
            "text/plain": [
              "(19239, 110)"
            ]
          },
          "execution_count": 52,
          "metadata": {},
          "output_type": "execute_result"
        }
      ],
      "source": [
        "#Shape of the dataset\n",
        "players_df.shape"
      ]
    },
    {
      "cell_type": "code",
      "execution_count": null,
      "metadata": {
        "colab": {
          "base_uri": "https://localhost:8080/"
        },
        "id": "w46e7BKsb8C5",
        "outputId": "2d38b784-86af-4851-c553-4b5e4dea2e15"
      },
      "outputs": [
        {
          "data": {
            "text/plain": [
              "sofifa_id            int64\n",
              "player_url          object\n",
              "short_name          object\n",
              "long_name           object\n",
              "player_positions    object\n",
              "                     ...  \n",
              "player_face_url     object\n",
              "club_logo_url       object\n",
              "club_flag_url       object\n",
              "nation_logo_url     object\n",
              "nation_flag_url     object\n",
              "Length: 110, dtype: object"
            ]
          },
          "execution_count": 53,
          "metadata": {},
          "output_type": "execute_result"
        }
      ],
      "source": [
        "# check for datatypes, some might require changing depending on what needs to be done.\n",
        "players_df.dtypes"
      ]
    },
    {
      "cell_type": "code",
      "execution_count": null,
      "metadata": {
        "colab": {
          "base_uri": "https://localhost:8080/",
          "height": 394
        },
        "id": "QWipQnBSb8Fk",
        "outputId": "ab1ce9db-d7a2-4ea3-992a-0bee3cab5a15"
      },
      "outputs": [
        {
          "data": {
            "text/html": [
              "\n",
              "  <div id=\"df-1a041298-8066-4246-8590-891f02dcc27a\">\n",
              "    <div class=\"colab-df-container\">\n",
              "      <div>\n",
              "<style scoped>\n",
              "    .dataframe tbody tr th:only-of-type {\n",
              "        vertical-align: middle;\n",
              "    }\n",
              "\n",
              "    .dataframe tbody tr th {\n",
              "        vertical-align: top;\n",
              "    }\n",
              "\n",
              "    .dataframe thead th {\n",
              "        text-align: right;\n",
              "    }\n",
              "</style>\n",
              "<table border=\"1\" class=\"dataframe\">\n",
              "  <thead>\n",
              "    <tr style=\"text-align: right;\">\n",
              "      <th></th>\n",
              "      <th>sofifa_id</th>\n",
              "      <th>overall</th>\n",
              "      <th>potential</th>\n",
              "      <th>value_eur</th>\n",
              "      <th>wage_eur</th>\n",
              "      <th>age</th>\n",
              "      <th>height_cm</th>\n",
              "      <th>weight_kg</th>\n",
              "      <th>club_team_id</th>\n",
              "      <th>league_level</th>\n",
              "      <th>...</th>\n",
              "      <th>mentality_composure</th>\n",
              "      <th>defending_marking_awareness</th>\n",
              "      <th>defending_standing_tackle</th>\n",
              "      <th>defending_sliding_tackle</th>\n",
              "      <th>goalkeeping_diving</th>\n",
              "      <th>goalkeeping_handling</th>\n",
              "      <th>goalkeeping_kicking</th>\n",
              "      <th>goalkeeping_positioning</th>\n",
              "      <th>goalkeeping_reflexes</th>\n",
              "      <th>goalkeeping_speed</th>\n",
              "    </tr>\n",
              "  </thead>\n",
              "  <tbody>\n",
              "    <tr>\n",
              "      <th>count</th>\n",
              "      <td>19239.000000</td>\n",
              "      <td>19239.000000</td>\n",
              "      <td>19239.000000</td>\n",
              "      <td>1.916500e+04</td>\n",
              "      <td>19178.000000</td>\n",
              "      <td>19239.000000</td>\n",
              "      <td>19239.000000</td>\n",
              "      <td>19239.000000</td>\n",
              "      <td>19178.000000</td>\n",
              "      <td>19178.000000</td>\n",
              "      <td>...</td>\n",
              "      <td>19239.000000</td>\n",
              "      <td>19239.000000</td>\n",
              "      <td>19239.000000</td>\n",
              "      <td>19239.000000</td>\n",
              "      <td>19239.000000</td>\n",
              "      <td>19239.000000</td>\n",
              "      <td>19239.000000</td>\n",
              "      <td>19239.000000</td>\n",
              "      <td>19239.000000</td>\n",
              "      <td>2132.000000</td>\n",
              "    </tr>\n",
              "    <tr>\n",
              "      <th>mean</th>\n",
              "      <td>231468.086959</td>\n",
              "      <td>65.772182</td>\n",
              "      <td>71.079370</td>\n",
              "      <td>2.850452e+06</td>\n",
              "      <td>9017.989363</td>\n",
              "      <td>25.210822</td>\n",
              "      <td>181.299704</td>\n",
              "      <td>74.943032</td>\n",
              "      <td>50580.498123</td>\n",
              "      <td>1.354364</td>\n",
              "      <td>...</td>\n",
              "      <td>57.929830</td>\n",
              "      <td>46.601746</td>\n",
              "      <td>48.045584</td>\n",
              "      <td>45.906700</td>\n",
              "      <td>16.406102</td>\n",
              "      <td>16.192474</td>\n",
              "      <td>16.055356</td>\n",
              "      <td>16.229274</td>\n",
              "      <td>16.491814</td>\n",
              "      <td>36.439962</td>\n",
              "    </tr>\n",
              "    <tr>\n",
              "      <th>std</th>\n",
              "      <td>27039.717497</td>\n",
              "      <td>6.880232</td>\n",
              "      <td>6.086213</td>\n",
              "      <td>7.613700e+06</td>\n",
              "      <td>19470.176724</td>\n",
              "      <td>4.748235</td>\n",
              "      <td>6.863179</td>\n",
              "      <td>7.069434</td>\n",
              "      <td>54401.868535</td>\n",
              "      <td>0.747865</td>\n",
              "      <td>...</td>\n",
              "      <td>12.159326</td>\n",
              "      <td>20.200807</td>\n",
              "      <td>21.232718</td>\n",
              "      <td>20.755683</td>\n",
              "      <td>17.574028</td>\n",
              "      <td>16.839528</td>\n",
              "      <td>16.564554</td>\n",
              "      <td>17.059779</td>\n",
              "      <td>17.884833</td>\n",
              "      <td>10.751563</td>\n",
              "    </tr>\n",
              "    <tr>\n",
              "      <th>min</th>\n",
              "      <td>41.000000</td>\n",
              "      <td>47.000000</td>\n",
              "      <td>49.000000</td>\n",
              "      <td>9.000000e+03</td>\n",
              "      <td>500.000000</td>\n",
              "      <td>16.000000</td>\n",
              "      <td>155.000000</td>\n",
              "      <td>49.000000</td>\n",
              "      <td>1.000000</td>\n",
              "      <td>1.000000</td>\n",
              "      <td>...</td>\n",
              "      <td>12.000000</td>\n",
              "      <td>4.000000</td>\n",
              "      <td>5.000000</td>\n",
              "      <td>5.000000</td>\n",
              "      <td>2.000000</td>\n",
              "      <td>2.000000</td>\n",
              "      <td>2.000000</td>\n",
              "      <td>2.000000</td>\n",
              "      <td>2.000000</td>\n",
              "      <td>15.000000</td>\n",
              "    </tr>\n",
              "    <tr>\n",
              "      <th>25%</th>\n",
              "      <td>214413.500000</td>\n",
              "      <td>61.000000</td>\n",
              "      <td>67.000000</td>\n",
              "      <td>4.750000e+05</td>\n",
              "      <td>1000.000000</td>\n",
              "      <td>21.000000</td>\n",
              "      <td>176.000000</td>\n",
              "      <td>70.000000</td>\n",
              "      <td>479.000000</td>\n",
              "      <td>1.000000</td>\n",
              "      <td>...</td>\n",
              "      <td>50.000000</td>\n",
              "      <td>29.000000</td>\n",
              "      <td>28.000000</td>\n",
              "      <td>25.000000</td>\n",
              "      <td>8.000000</td>\n",
              "      <td>8.000000</td>\n",
              "      <td>8.000000</td>\n",
              "      <td>8.000000</td>\n",
              "      <td>8.000000</td>\n",
              "      <td>27.000000</td>\n",
              "    </tr>\n",
              "    <tr>\n",
              "      <th>50%</th>\n",
              "      <td>236543.000000</td>\n",
              "      <td>66.000000</td>\n",
              "      <td>71.000000</td>\n",
              "      <td>9.750000e+05</td>\n",
              "      <td>3000.000000</td>\n",
              "      <td>25.000000</td>\n",
              "      <td>181.000000</td>\n",
              "      <td>75.000000</td>\n",
              "      <td>1938.000000</td>\n",
              "      <td>1.000000</td>\n",
              "      <td>...</td>\n",
              "      <td>59.000000</td>\n",
              "      <td>52.000000</td>\n",
              "      <td>56.000000</td>\n",
              "      <td>53.000000</td>\n",
              "      <td>11.000000</td>\n",
              "      <td>11.000000</td>\n",
              "      <td>11.000000</td>\n",
              "      <td>11.000000</td>\n",
              "      <td>11.000000</td>\n",
              "      <td>36.000000</td>\n",
              "    </tr>\n",
              "    <tr>\n",
              "      <th>75%</th>\n",
              "      <td>253532.500000</td>\n",
              "      <td>70.000000</td>\n",
              "      <td>75.000000</td>\n",
              "      <td>2.000000e+06</td>\n",
              "      <td>8000.000000</td>\n",
              "      <td>29.000000</td>\n",
              "      <td>186.000000</td>\n",
              "      <td>80.000000</td>\n",
              "      <td>111139.000000</td>\n",
              "      <td>1.000000</td>\n",
              "      <td>...</td>\n",
              "      <td>66.000000</td>\n",
              "      <td>63.000000</td>\n",
              "      <td>65.000000</td>\n",
              "      <td>63.000000</td>\n",
              "      <td>14.000000</td>\n",
              "      <td>14.000000</td>\n",
              "      <td>14.000000</td>\n",
              "      <td>14.000000</td>\n",
              "      <td>14.000000</td>\n",
              "      <td>45.000000</td>\n",
              "    </tr>\n",
              "    <tr>\n",
              "      <th>max</th>\n",
              "      <td>264640.000000</td>\n",
              "      <td>93.000000</td>\n",
              "      <td>95.000000</td>\n",
              "      <td>1.940000e+08</td>\n",
              "      <td>350000.000000</td>\n",
              "      <td>54.000000</td>\n",
              "      <td>206.000000</td>\n",
              "      <td>110.000000</td>\n",
              "      <td>115820.000000</td>\n",
              "      <td>5.000000</td>\n",
              "      <td>...</td>\n",
              "      <td>96.000000</td>\n",
              "      <td>93.000000</td>\n",
              "      <td>93.000000</td>\n",
              "      <td>92.000000</td>\n",
              "      <td>91.000000</td>\n",
              "      <td>92.000000</td>\n",
              "      <td>93.000000</td>\n",
              "      <td>92.000000</td>\n",
              "      <td>90.000000</td>\n",
              "      <td>65.000000</td>\n",
              "    </tr>\n",
              "  </tbody>\n",
              "</table>\n",
              "<p>8 rows × 60 columns</p>\n",
              "</div>\n",
              "      <button class=\"colab-df-convert\" onclick=\"convertToInteractive('df-1a041298-8066-4246-8590-891f02dcc27a')\"\n",
              "              title=\"Convert this dataframe to an interactive table.\"\n",
              "              style=\"display:none;\">\n",
              "        \n",
              "  <svg xmlns=\"http://www.w3.org/2000/svg\" height=\"24px\"viewBox=\"0 0 24 24\"\n",
              "       width=\"24px\">\n",
              "    <path d=\"M0 0h24v24H0V0z\" fill=\"none\"/>\n",
              "    <path d=\"M18.56 5.44l.94 2.06.94-2.06 2.06-.94-2.06-.94-.94-2.06-.94 2.06-2.06.94zm-11 1L8.5 8.5l.94-2.06 2.06-.94-2.06-.94L8.5 2.5l-.94 2.06-2.06.94zm10 10l.94 2.06.94-2.06 2.06-.94-2.06-.94-.94-2.06-.94 2.06-2.06.94z\"/><path d=\"M17.41 7.96l-1.37-1.37c-.4-.4-.92-.59-1.43-.59-.52 0-1.04.2-1.43.59L10.3 9.45l-7.72 7.72c-.78.78-.78 2.05 0 2.83L4 21.41c.39.39.9.59 1.41.59.51 0 1.02-.2 1.41-.59l7.78-7.78 2.81-2.81c.8-.78.8-2.07 0-2.86zM5.41 20L4 18.59l7.72-7.72 1.47 1.35L5.41 20z\"/>\n",
              "  </svg>\n",
              "      </button>\n",
              "      \n",
              "  <style>\n",
              "    .colab-df-container {\n",
              "      display:flex;\n",
              "      flex-wrap:wrap;\n",
              "      gap: 12px;\n",
              "    }\n",
              "\n",
              "    .colab-df-convert {\n",
              "      background-color: #E8F0FE;\n",
              "      border: none;\n",
              "      border-radius: 50%;\n",
              "      cursor: pointer;\n",
              "      display: none;\n",
              "      fill: #1967D2;\n",
              "      height: 32px;\n",
              "      padding: 0 0 0 0;\n",
              "      width: 32px;\n",
              "    }\n",
              "\n",
              "    .colab-df-convert:hover {\n",
              "      background-color: #E2EBFA;\n",
              "      box-shadow: 0px 1px 2px rgba(60, 64, 67, 0.3), 0px 1px 3px 1px rgba(60, 64, 67, 0.15);\n",
              "      fill: #174EA6;\n",
              "    }\n",
              "\n",
              "    [theme=dark] .colab-df-convert {\n",
              "      background-color: #3B4455;\n",
              "      fill: #D2E3FC;\n",
              "    }\n",
              "\n",
              "    [theme=dark] .colab-df-convert:hover {\n",
              "      background-color: #434B5C;\n",
              "      box-shadow: 0px 1px 3px 1px rgba(0, 0, 0, 0.15);\n",
              "      filter: drop-shadow(0px 1px 2px rgba(0, 0, 0, 0.3));\n",
              "      fill: #FFFFFF;\n",
              "    }\n",
              "  </style>\n",
              "\n",
              "      <script>\n",
              "        const buttonEl =\n",
              "          document.querySelector('#df-1a041298-8066-4246-8590-891f02dcc27a button.colab-df-convert');\n",
              "        buttonEl.style.display =\n",
              "          google.colab.kernel.accessAllowed ? 'block' : 'none';\n",
              "\n",
              "        async function convertToInteractive(key) {\n",
              "          const element = document.querySelector('#df-1a041298-8066-4246-8590-891f02dcc27a');\n",
              "          const dataTable =\n",
              "            await google.colab.kernel.invokeFunction('convertToInteractive',\n",
              "                                                     [key], {});\n",
              "          if (!dataTable) return;\n",
              "\n",
              "          const docLinkHtml = 'Like what you see? Visit the ' +\n",
              "            '<a target=\"_blank\" href=https://colab.research.google.com/notebooks/data_table.ipynb>data table notebook</a>'\n",
              "            + ' to learn more about interactive tables.';\n",
              "          element.innerHTML = '';\n",
              "          dataTable['output_type'] = 'display_data';\n",
              "          await google.colab.output.renderOutput(dataTable, element);\n",
              "          const docLink = document.createElement('div');\n",
              "          docLink.innerHTML = docLinkHtml;\n",
              "          element.appendChild(docLink);\n",
              "        }\n",
              "      </script>\n",
              "    </div>\n",
              "  </div>\n",
              "  "
            ],
            "text/plain": [
              "           sofifa_id       overall     potential     value_eur       wage_eur  \\\n",
              "count   19239.000000  19239.000000  19239.000000  1.916500e+04   19178.000000   \n",
              "mean   231468.086959     65.772182     71.079370  2.850452e+06    9017.989363   \n",
              "std     27039.717497      6.880232      6.086213  7.613700e+06   19470.176724   \n",
              "min        41.000000     47.000000     49.000000  9.000000e+03     500.000000   \n",
              "25%    214413.500000     61.000000     67.000000  4.750000e+05    1000.000000   \n",
              "50%    236543.000000     66.000000     71.000000  9.750000e+05    3000.000000   \n",
              "75%    253532.500000     70.000000     75.000000  2.000000e+06    8000.000000   \n",
              "max    264640.000000     93.000000     95.000000  1.940000e+08  350000.000000   \n",
              "\n",
              "                age     height_cm     weight_kg   club_team_id  league_level  \\\n",
              "count  19239.000000  19239.000000  19239.000000   19178.000000  19178.000000   \n",
              "mean      25.210822    181.299704     74.943032   50580.498123      1.354364   \n",
              "std        4.748235      6.863179      7.069434   54401.868535      0.747865   \n",
              "min       16.000000    155.000000     49.000000       1.000000      1.000000   \n",
              "25%       21.000000    176.000000     70.000000     479.000000      1.000000   \n",
              "50%       25.000000    181.000000     75.000000    1938.000000      1.000000   \n",
              "75%       29.000000    186.000000     80.000000  111139.000000      1.000000   \n",
              "max       54.000000    206.000000    110.000000  115820.000000      5.000000   \n",
              "\n",
              "       ...  mentality_composure  defending_marking_awareness  \\\n",
              "count  ...         19239.000000                 19239.000000   \n",
              "mean   ...            57.929830                    46.601746   \n",
              "std    ...            12.159326                    20.200807   \n",
              "min    ...            12.000000                     4.000000   \n",
              "25%    ...            50.000000                    29.000000   \n",
              "50%    ...            59.000000                    52.000000   \n",
              "75%    ...            66.000000                    63.000000   \n",
              "max    ...            96.000000                    93.000000   \n",
              "\n",
              "       defending_standing_tackle  defending_sliding_tackle  \\\n",
              "count               19239.000000              19239.000000   \n",
              "mean                   48.045584                 45.906700   \n",
              "std                    21.232718                 20.755683   \n",
              "min                     5.000000                  5.000000   \n",
              "25%                    28.000000                 25.000000   \n",
              "50%                    56.000000                 53.000000   \n",
              "75%                    65.000000                 63.000000   \n",
              "max                    93.000000                 92.000000   \n",
              "\n",
              "       goalkeeping_diving  goalkeeping_handling  goalkeeping_kicking  \\\n",
              "count        19239.000000          19239.000000         19239.000000   \n",
              "mean            16.406102             16.192474            16.055356   \n",
              "std             17.574028             16.839528            16.564554   \n",
              "min              2.000000              2.000000             2.000000   \n",
              "25%              8.000000              8.000000             8.000000   \n",
              "50%             11.000000             11.000000            11.000000   \n",
              "75%             14.000000             14.000000            14.000000   \n",
              "max             91.000000             92.000000            93.000000   \n",
              "\n",
              "       goalkeeping_positioning  goalkeeping_reflexes  goalkeeping_speed  \n",
              "count             19239.000000          19239.000000        2132.000000  \n",
              "mean                 16.229274             16.491814          36.439962  \n",
              "std                  17.059779             17.884833          10.751563  \n",
              "min                   2.000000              2.000000          15.000000  \n",
              "25%                   8.000000              8.000000          27.000000  \n",
              "50%                  11.000000             11.000000          36.000000  \n",
              "75%                  14.000000             14.000000          45.000000  \n",
              "max                  92.000000             90.000000          65.000000  \n",
              "\n",
              "[8 rows x 60 columns]"
            ]
          },
          "execution_count": 54,
          "metadata": {},
          "output_type": "execute_result"
        }
      ],
      "source": [
        "# View summary statistics\n",
        "players_df.describe() "
      ]
    },
    {
      "cell_type": "markdown",
      "metadata": {
        "id": "eBEv0GP_1N-H"
      },
      "source": [
        "## Cleaning the Dataset"
      ]
    },
    {
      "cell_type": "code",
      "execution_count": null,
      "metadata": {
        "colab": {
          "base_uri": "https://localhost:8080/"
        },
        "id": "kSs82iTxesuk",
        "outputId": "1bc6f574-b867-4905-bffc-22aa65fa0221"
      },
      "outputs": [
        {
          "data": {
            "text/plain": [
              "sofifa_id           False\n",
              "player_url          False\n",
              "short_name          False\n",
              "long_name           False\n",
              "player_positions    False\n",
              "                    ...  \n",
              "player_face_url     False\n",
              "club_logo_url        True\n",
              "club_flag_url        True\n",
              "nation_logo_url      True\n",
              "nation_flag_url     False\n",
              "Length: 110, dtype: bool"
            ]
          },
          "execution_count": 55,
          "metadata": {},
          "output_type": "execute_result"
        }
      ],
      "source": [
        "# checking for missing values\n",
        "players_df.isnull().any()"
      ]
    },
    {
      "cell_type": "code",
      "execution_count": null,
      "metadata": {
        "colab": {
          "base_uri": "https://localhost:8080/"
        },
        "id": "fBCbtN_beTnN",
        "outputId": "4a58b81d-c89b-4815-d223-ac679517adf3"
      },
      "outputs": [
        {
          "name": "stdout",
          "output_type": "stream",
          "text": [
            "club_loaned_from - 94%\n",
            "nation_team_id - 96%\n",
            "nation_position - 96%\n",
            "nation_jersey_number - 96%\n",
            "player_tags - 93%\n",
            "goalkeeping_speed - 89%\n",
            "nation_logo_url - 96%\n",
            "\n",
            " We need to drop these columns: \n",
            " \n",
            " ['club_loaned_from', 'nation_team_id', 'nation_position', 'nation_jersey_number', 'player_tags', 'goalkeeping_speed', 'nation_logo_url']\n"
          ]
        }
      ],
      "source": [
        "#lets handle the above missing values\n",
        "col = []\n",
        "for c in players_df.columns:\n",
        "    missing_values=np.mean(players_df[c].isnull())* 100\n",
        "    if missing_values > 60:\n",
        "        print('{} - {}%'.format(c, round(missing_values)))\n",
        "        col.append(c)\n",
        "\n",
        "print(\"\\n We need to drop these columns: \\n \\n\", col)"
      ]
    },
    {
      "cell_type": "code",
      "execution_count": null,
      "metadata": {
        "id": "TOmeU22e2_F8"
      },
      "outputs": [],
      "source": [
        "#Dropping the columns with missing values\n",
        "players_df.drop(columns=['club_loaned_from', 'nation_team_id', 'nation_position', 'nation_jersey_number', 'player_tags', 'goalkeeping_speed', 'nation_logo_url'], inplace=True)"
      ]
    },
    {
      "cell_type": "code",
      "execution_count": null,
      "metadata": {
        "colab": {
          "base_uri": "https://localhost:8080/"
        },
        "id": "mFiHJj3u3Gh7",
        "outputId": "6d7f1070-1120-4c6b-acae-0b5454700cdd"
      },
      "outputs": [
        {
          "name": "stdout",
          "output_type": "stream",
          "text": [
            "['sofifa_id', 'overall', 'potential', 'age', 'height_cm', 'weight_kg', 'nationality_id', 'weak_foot', 'skill_moves', 'international_reputation', 'attacking_crossing', 'attacking_finishing', 'attacking_heading_accuracy', 'attacking_short_passing', 'attacking_volleys', 'skill_dribbling', 'skill_curve', 'skill_fk_accuracy', 'skill_long_passing', 'skill_ball_control', 'movement_acceleration', 'movement_sprint_speed', 'movement_agility', 'movement_reactions', 'movement_balance', 'power_shot_power', 'power_jumping', 'power_stamina', 'power_strength', 'power_long_shots', 'mentality_aggression', 'mentality_interceptions', 'mentality_positioning', 'mentality_vision', 'mentality_penalties', 'mentality_composure', 'defending_marking_awareness', 'defending_standing_tackle', 'defending_sliding_tackle', 'goalkeeping_diving', 'goalkeeping_handling', 'goalkeeping_kicking', 'goalkeeping_positioning', 'goalkeeping_reflexes']\n"
          ]
        }
      ],
      "source": [
        "#extracting the columns whose dtype is number and ignoring the ones with object dtype\n",
        "dfCols = []\n",
        "for c in players_df.columns:\n",
        "  if players_df[c].dtype == 'int64':\n",
        "    dfCols.append(c)\n",
        "\n",
        "print(dfCols)"
      ]
    },
    {
      "cell_type": "markdown",
      "metadata": {
        "id": "mySh-V5t1Vkc"
      },
      "source": [
        "## Extract the feauture"
      ]
    },
    {
      "cell_type": "code",
      "execution_count": null,
      "metadata": {
        "id": "Gy6smE2UJfKk"
      },
      "outputs": [],
      "source": [
        "# Extract preferred foot\n",
        "players_df['preferred_foot'] = players_df['preferred_foot'].apply(lambda x: 1 if x == 'Right' else 0)\n",
        "\n",
        "\n"
      ]
    },
    {
      "cell_type": "code",
      "execution_count": null,
      "metadata": {
        "id": "YqUuSQjCJfNO"
      },
      "outputs": [],
      "source": [
        "# Calculate overall potential\n",
        "players_df['overall_potential'] = players_df['overall'] + players_df['potential']"
      ]
    },
    {
      "cell_type": "markdown",
      "metadata": {
        "id": "8W1UEW-l1fU2"
      },
      "source": [
        "## Feature Selection"
      ]
    },
    {
      "cell_type": "code",
      "execution_count": null,
      "metadata": {
        "colab": {
          "base_uri": "https://localhost:8080/"
        },
        "id": "KcHN76B4JfPo",
        "outputId": "06649ac0-b95a-47ca-8884-b43b71d196cc"
      },
      "outputs": [
        {
          "data": {
            "text/plain": [
              "overall                        1.000000\n",
              "overall_potential              0.918358\n",
              "movement_reactions             0.871823\n",
              "passing                        0.715001\n",
              "mentality_composure            0.708867\n",
              "dribbling                      0.666402\n",
              "potential                      0.644275\n",
              "wage_eur                       0.601764\n",
              "power_shot_power               0.561180\n",
              "value_eur                      0.554684\n",
              "release_clause_eur             0.545197\n",
              "physic                         0.529234\n",
              "mentality_vision               0.523025\n",
              "attacking_short_passing        0.516788\n",
              "skill_long_passing             0.498216\n",
              "shooting                       0.489623\n",
              "international_reputation       0.470647\n",
              "skill_ball_control             0.460411\n",
              "age                            0.459451\n",
              "skill_curve                    0.420423\n",
              "power_long_shots               0.410010\n",
              "attacking_crossing             0.401356\n",
              "mentality_aggression           0.400161\n",
              "power_stamina                  0.385150\n",
              "skill_dribbling                0.384351\n",
              "skill_fk_accuracy              0.381030\n",
              "attacking_volleys              0.380942\n",
              "skill_moves                    0.376226\n",
              "power_strength                 0.364366\n",
              "mentality_positioning          0.358562\n",
              "defending                      0.346760\n",
              "attacking_heading_accuracy     0.343901\n",
              "mentality_penalties            0.343690\n",
              "attacking_finishing            0.338746\n",
              "mentality_interceptions        0.316470\n",
              "defending_marking_awareness    0.312093\n",
              "power_jumping                  0.284689\n",
              "movement_agility               0.270279\n",
              "defending_standing_tackle      0.259773\n",
              "defending_sliding_tackle       0.233589\n",
              "weak_foot                      0.223762\n",
              "movement_sprint_speed          0.205736\n",
              "movement_acceleration          0.194044\n",
              "club_contract_valid_until      0.184987\n",
              "pace                           0.174695\n",
              "weight_kg                      0.150324\n",
              "movement_balance               0.123700\n",
              "height_cm                      0.042787\n",
              "goalkeeping_positioning       -0.002485\n",
              "goalkeeping_reflexes          -0.007960\n",
              "goalkeeping_diving            -0.010990\n",
              "goalkeeping_handling          -0.011080\n",
              "goalkeeping_kicking           -0.012986\n",
              "preferred_foot                -0.048961\n",
              "nationality_id                -0.168315\n",
              "league_level                  -0.179032\n",
              "club_jersey_number            -0.186166\n",
              "club_team_id                  -0.226640\n",
              "sofifa_id                     -0.491523\n",
              "Name: overall, dtype: float64"
            ]
          },
          "execution_count": 61,
          "metadata": {},
          "output_type": "execute_result"
        }
      ],
      "source": [
        "# Calculate correlation coefficients\n",
        "corr_matrix = players_df.corr()\n",
        "corr_matrix['overall'].sort_values(ascending=False)"
      ]
    },
    {
      "cell_type": "code",
      "execution_count": null,
      "metadata": {
        "id": "h-tROGigJfSO"
      },
      "outputs": [],
      "source": [
        "# Select top features\n",
        "#feature_subset = players_df[['age', 'potential', 'value_eur', 'wage_eur', 'international_reputation']]\n"
      ]
    },
    {
      "cell_type": "markdown",
      "metadata": {
        "id": "bzlEPRSD37C1"
      },
      "source": [
        "## Model Training and measure the perfomance of the model"
      ]
    },
    {
      "cell_type": "code",
      "execution_count": null,
      "metadata": {
        "id": "iZH6HY3HJfVo"
      },
      "outputs": [],
      "source": [
        "## creating a new df with only numerical dtypes\n",
        "new_df = players_df[['potential', 'value_eur', 'wage_eur', \n",
        "            'age',  'height_cm', 'weight_kg', \n",
        "            'pace',\n",
        "            'overall',\n",
        "          'shooting',\n",
        "          'passing',\n",
        "          'dribbling',\n",
        "          'defending',\n",
        "          'physic',\n",
        "          'attacking_crossing',\n",
        "          'attacking_finishing',\n",
        "          'attacking_heading_accuracy',\n",
        "          'attacking_short_passing',\n",
        "          'attacking_volleys',\n",
        "          'skill_dribbling',\n",
        "          'skill_curve',\n",
        "          'skill_fk_accuracy',\n",
        "          'skill_long_passing',\n",
        "          'skill_ball_control',\n",
        "          'movement_acceleration',\n",
        "          'movement_sprint_speed',\n",
        "          'movement_agility',\n",
        "          'movement_reactions',\n",
        "          'movement_balance',\n",
        "          'power_shot_power',\n",
        "          'power_jumping',\n",
        "          'power_stamina',\n",
        "          'power_strength',\n",
        "          'power_long_shots',\n",
        "          'mentality_aggression',\n",
        "          'mentality_interceptions',\n",
        "          'mentality_positioning',\n",
        "          'mentality_vision',\n",
        "          'mentality_penalties',\n",
        "          'mentality_composure',\n",
        "          'defending_marking_awareness',\n",
        "          'defending_standing_tackle',\n",
        "          'defending_sliding_tackle',\n",
        "          \n",
        "            ]].copy()"
      ]
    },
    {
      "cell_type": "code",
      "execution_count": null,
      "metadata": {
        "colab": {
          "base_uri": "https://localhost:8080/"
        },
        "id": "KQbzBRGG46ve",
        "outputId": "7730a0a9-ff6e-4266-aa4f-6f1cee2f575a"
      },
      "outputs": [
        {
          "data": {
            "text/plain": [
              "potential                        int64\n",
              "value_eur                      float64\n",
              "wage_eur                       float64\n",
              "age                              int64\n",
              "height_cm                        int64\n",
              "weight_kg                        int64\n",
              "pace                           float64\n",
              "overall                          int64\n",
              "shooting                       float64\n",
              "passing                        float64\n",
              "dribbling                      float64\n",
              "defending                      float64\n",
              "physic                         float64\n",
              "attacking_crossing               int64\n",
              "attacking_finishing              int64\n",
              "attacking_heading_accuracy       int64\n",
              "attacking_short_passing          int64\n",
              "attacking_volleys                int64\n",
              "skill_dribbling                  int64\n",
              "skill_curve                      int64\n",
              "skill_fk_accuracy                int64\n",
              "skill_long_passing               int64\n",
              "skill_ball_control               int64\n",
              "movement_acceleration            int64\n",
              "movement_sprint_speed            int64\n",
              "movement_agility                 int64\n",
              "movement_reactions               int64\n",
              "movement_balance                 int64\n",
              "power_shot_power                 int64\n",
              "power_jumping                    int64\n",
              "power_stamina                    int64\n",
              "power_strength                   int64\n",
              "power_long_shots                 int64\n",
              "mentality_aggression             int64\n",
              "mentality_interceptions          int64\n",
              "mentality_positioning            int64\n",
              "mentality_vision                 int64\n",
              "mentality_penalties              int64\n",
              "mentality_composure              int64\n",
              "defending_marking_awareness      int64\n",
              "defending_standing_tackle        int64\n",
              "defending_sliding_tackle         int64\n",
              "dtype: object"
            ]
          },
          "execution_count": 64,
          "metadata": {},
          "output_type": "execute_result"
        }
      ],
      "source": [
        "new_df.dtypes"
      ]
    },
    {
      "cell_type": "code",
      "execution_count": null,
      "metadata": {
        "id": "tPaPlR7d4-qp"
      },
      "outputs": [],
      "source": [
        "# changing all the dtypes to float64\n",
        "new_df = new_df.astype(np.float64)"
      ]
    },
    {
      "cell_type": "code",
      "execution_count": null,
      "metadata": {
        "colab": {
          "base_uri": "https://localhost:8080/"
        },
        "id": "vw3kVti35CYp",
        "outputId": "286b03de-5f58-4194-eb7b-a82cdb96f95c"
      },
      "outputs": [
        {
          "data": {
            "text/plain": [
              "potential                      False\n",
              "value_eur                      False\n",
              "wage_eur                       False\n",
              "age                            False\n",
              "height_cm                      False\n",
              "weight_kg                      False\n",
              "pace                           False\n",
              "overall                        False\n",
              "shooting                       False\n",
              "passing                        False\n",
              "dribbling                      False\n",
              "defending                      False\n",
              "physic                         False\n",
              "attacking_crossing             False\n",
              "attacking_finishing            False\n",
              "attacking_heading_accuracy     False\n",
              "attacking_short_passing        False\n",
              "attacking_volleys              False\n",
              "skill_dribbling                False\n",
              "skill_curve                    False\n",
              "skill_fk_accuracy              False\n",
              "skill_long_passing             False\n",
              "skill_ball_control             False\n",
              "movement_acceleration          False\n",
              "movement_sprint_speed          False\n",
              "movement_agility               False\n",
              "movement_reactions             False\n",
              "movement_balance               False\n",
              "power_shot_power               False\n",
              "power_jumping                  False\n",
              "power_stamina                  False\n",
              "power_strength                 False\n",
              "power_long_shots               False\n",
              "mentality_aggression           False\n",
              "mentality_interceptions        False\n",
              "mentality_positioning          False\n",
              "mentality_vision               False\n",
              "mentality_penalties            False\n",
              "mentality_composure            False\n",
              "defending_marking_awareness    False\n",
              "defending_standing_tackle      False\n",
              "defending_sliding_tackle       False\n",
              "dtype: bool"
            ]
          },
          "execution_count": 66,
          "metadata": {},
          "output_type": "execute_result"
        }
      ],
      "source": [
        "#dropping all the null values\n",
        "new_df = new_df.dropna()\n",
        "new_df.isnull().any()"
      ]
    },
    {
      "cell_type": "markdown",
      "metadata": {
        "id": "K9hJSAL01e1C"
      },
      "source": [
        "## Splitting the data into training and Testing set"
      ]
    },
    {
      "cell_type": "code",
      "execution_count": null,
      "metadata": {
        "id": "tecO2lfz2LaT"
      },
      "outputs": [],
      "source": [
        "#create a test set and training set\n",
        "from sklearn.model_selection import train_test_split\n",
        "train_set, test_set= train_test_split(new_df, test_size= 0.2, random_state= 42)\n"
      ]
    },
    {
      "cell_type": "code",
      "execution_count": null,
      "metadata": {
        "id": "rUvXcavn3gch"
      },
      "outputs": [],
      "source": [
        "y_train = train_set['overall'].copy()\n",
        "x_train = train_set.drop(['overall'], axis=1)"
      ]
    },
    {
      "cell_type": "code",
      "execution_count": null,
      "metadata": {
        "colab": {
          "base_uri": "https://localhost:8080/",
          "height": 75
        },
        "id": "AHAktKC05EmN",
        "outputId": "418456e7-64a2-458e-9adf-17df6945a313"
      },
      "outputs": [
        {
          "data": {
            "text/html": [
              "<style>#sk-container-id-7 {color: black;background-color: white;}#sk-container-id-7 pre{padding: 0;}#sk-container-id-7 div.sk-toggleable {background-color: white;}#sk-container-id-7 label.sk-toggleable__label {cursor: pointer;display: block;width: 100%;margin-bottom: 0;padding: 0.3em;box-sizing: border-box;text-align: center;}#sk-container-id-7 label.sk-toggleable__label-arrow:before {content: \"▸\";float: left;margin-right: 0.25em;color: #696969;}#sk-container-id-7 label.sk-toggleable__label-arrow:hover:before {color: black;}#sk-container-id-7 div.sk-estimator:hover label.sk-toggleable__label-arrow:before {color: black;}#sk-container-id-7 div.sk-toggleable__content {max-height: 0;max-width: 0;overflow: hidden;text-align: left;background-color: #f0f8ff;}#sk-container-id-7 div.sk-toggleable__content pre {margin: 0.2em;color: black;border-radius: 0.25em;background-color: #f0f8ff;}#sk-container-id-7 input.sk-toggleable__control:checked~div.sk-toggleable__content {max-height: 200px;max-width: 100%;overflow: auto;}#sk-container-id-7 input.sk-toggleable__control:checked~label.sk-toggleable__label-arrow:before {content: \"▾\";}#sk-container-id-7 div.sk-estimator input.sk-toggleable__control:checked~label.sk-toggleable__label {background-color: #d4ebff;}#sk-container-id-7 div.sk-label input.sk-toggleable__control:checked~label.sk-toggleable__label {background-color: #d4ebff;}#sk-container-id-7 input.sk-hidden--visually {border: 0;clip: rect(1px 1px 1px 1px);clip: rect(1px, 1px, 1px, 1px);height: 1px;margin: -1px;overflow: hidden;padding: 0;position: absolute;width: 1px;}#sk-container-id-7 div.sk-estimator {font-family: monospace;background-color: #f0f8ff;border: 1px dotted black;border-radius: 0.25em;box-sizing: border-box;margin-bottom: 0.5em;}#sk-container-id-7 div.sk-estimator:hover {background-color: #d4ebff;}#sk-container-id-7 div.sk-parallel-item::after {content: \"\";width: 100%;border-bottom: 1px solid gray;flex-grow: 1;}#sk-container-id-7 div.sk-label:hover label.sk-toggleable__label {background-color: #d4ebff;}#sk-container-id-7 div.sk-serial::before {content: \"\";position: absolute;border-left: 1px solid gray;box-sizing: border-box;top: 0;bottom: 0;left: 50%;z-index: 0;}#sk-container-id-7 div.sk-serial {display: flex;flex-direction: column;align-items: center;background-color: white;padding-right: 0.2em;padding-left: 0.2em;position: relative;}#sk-container-id-7 div.sk-item {position: relative;z-index: 1;}#sk-container-id-7 div.sk-parallel {display: flex;align-items: stretch;justify-content: center;background-color: white;position: relative;}#sk-container-id-7 div.sk-item::before, #sk-container-id-7 div.sk-parallel-item::before {content: \"\";position: absolute;border-left: 1px solid gray;box-sizing: border-box;top: 0;bottom: 0;left: 50%;z-index: -1;}#sk-container-id-7 div.sk-parallel-item {display: flex;flex-direction: column;z-index: 1;position: relative;background-color: white;}#sk-container-id-7 div.sk-parallel-item:first-child::after {align-self: flex-end;width: 50%;}#sk-container-id-7 div.sk-parallel-item:last-child::after {align-self: flex-start;width: 50%;}#sk-container-id-7 div.sk-parallel-item:only-child::after {width: 0;}#sk-container-id-7 div.sk-dashed-wrapped {border: 1px dashed gray;margin: 0 0.4em 0.5em 0.4em;box-sizing: border-box;padding-bottom: 0.4em;background-color: white;}#sk-container-id-7 div.sk-label label {font-family: monospace;font-weight: bold;display: inline-block;line-height: 1.2em;}#sk-container-id-7 div.sk-label-container {text-align: center;}#sk-container-id-7 div.sk-container {/* jupyter's `normalize.less` sets `[hidden] { display: none; }` but bootstrap.min.css set `[hidden] { display: none !important; }` so we also need the `!important` here to be able to override the default hidden behavior on the sphinx rendered scikit-learn.org. See: https://github.com/scikit-learn/scikit-learn/issues/21755 */display: inline-block !important;position: relative;}#sk-container-id-7 div.sk-text-repr-fallback {display: none;}</style><div id=\"sk-container-id-7\" class=\"sk-top-container\"><div class=\"sk-text-repr-fallback\"><pre>RandomForestRegressor(max_features=22, random_state=30)</pre><b>In a Jupyter environment, please rerun this cell to show the HTML representation or trust the notebook. <br />On GitHub, the HTML representation is unable to render, please try loading this page with nbviewer.org.</b></div><div class=\"sk-container\" hidden><div class=\"sk-item\"><div class=\"sk-estimator sk-toggleable\"><input class=\"sk-toggleable__control sk-hidden--visually\" id=\"sk-estimator-id-7\" type=\"checkbox\" checked><label for=\"sk-estimator-id-7\" class=\"sk-toggleable__label sk-toggleable__label-arrow\">RandomForestRegressor</label><div class=\"sk-toggleable__content\"><pre>RandomForestRegressor(max_features=22, random_state=30)</pre></div></div></div></div></div>"
            ],
            "text/plain": [
              "RandomForestRegressor(max_features=22, random_state=30)"
            ]
          },
          "execution_count": 70,
          "metadata": {},
          "output_type": "execute_result"
        }
      ],
      "source": [
        "# building the models\n",
        "from sklearn.ensemble import RandomForestRegressor\n",
        "forest =  RandomForestRegressor(random_state=30, max_features=22)\n",
        "forest.fit(x_train, y_train)"
      ]
    },
    {
      "cell_type": "markdown",
      "metadata": {
        "id": "k_oUPbF394qT"
      },
      "source": [
        "## Measuring the perfomance of the model"
      ]
    },
    {
      "cell_type": "code",
      "execution_count": null,
      "metadata": {
        "id": "FdGugvkr-CiQ"
      },
      "outputs": [],
      "source": [
        "y_test = test_set['overall'].copy()\n",
        "x_test = test_set.drop(['overall'], axis=1)"
      ]
    },
    {
      "cell_type": "code",
      "execution_count": null,
      "metadata": {
        "colab": {
          "base_uri": "https://localhost:8080/"
        },
        "id": "13mx7qde5Xtg",
        "outputId": "644dc3e6-04b9-46fb-e870-cacaed8d5ecf"
      },
      "outputs": [
        {
          "data": {
            "text/plain": [
              "(0.21710046934584934, 0.4659404139435099)"
            ]
          },
          "execution_count": 72,
          "metadata": {},
          "output_type": "execute_result"
        }
      ],
      "source": [
        "from sklearn.metrics import mean_squared_error\n",
        "forestPred = forest.predict(x_test)\n",
        "forest_mse = mean_squared_error(y_test, forestPred)\n",
        "forest_rmse = np.sqrt(forest_mse)\n",
        "forest_mse, forest_rmse"
      ]
    },
    {
      "cell_type": "code",
      "execution_count": null,
      "metadata": {
        "colab": {
          "base_uri": "https://localhost:8080/",
          "height": 75
        },
        "id": "yywWW8by5ff0",
        "outputId": "8507643f-f562-4115-e4e0-e147c1dbe8f3"
      },
      "outputs": [
        {
          "data": {
            "text/html": [
              "<style>#sk-container-id-8 {color: black;background-color: white;}#sk-container-id-8 pre{padding: 0;}#sk-container-id-8 div.sk-toggleable {background-color: white;}#sk-container-id-8 label.sk-toggleable__label {cursor: pointer;display: block;width: 100%;margin-bottom: 0;padding: 0.3em;box-sizing: border-box;text-align: center;}#sk-container-id-8 label.sk-toggleable__label-arrow:before {content: \"▸\";float: left;margin-right: 0.25em;color: #696969;}#sk-container-id-8 label.sk-toggleable__label-arrow:hover:before {color: black;}#sk-container-id-8 div.sk-estimator:hover label.sk-toggleable__label-arrow:before {color: black;}#sk-container-id-8 div.sk-toggleable__content {max-height: 0;max-width: 0;overflow: hidden;text-align: left;background-color: #f0f8ff;}#sk-container-id-8 div.sk-toggleable__content pre {margin: 0.2em;color: black;border-radius: 0.25em;background-color: #f0f8ff;}#sk-container-id-8 input.sk-toggleable__control:checked~div.sk-toggleable__content {max-height: 200px;max-width: 100%;overflow: auto;}#sk-container-id-8 input.sk-toggleable__control:checked~label.sk-toggleable__label-arrow:before {content: \"▾\";}#sk-container-id-8 div.sk-estimator input.sk-toggleable__control:checked~label.sk-toggleable__label {background-color: #d4ebff;}#sk-container-id-8 div.sk-label input.sk-toggleable__control:checked~label.sk-toggleable__label {background-color: #d4ebff;}#sk-container-id-8 input.sk-hidden--visually {border: 0;clip: rect(1px 1px 1px 1px);clip: rect(1px, 1px, 1px, 1px);height: 1px;margin: -1px;overflow: hidden;padding: 0;position: absolute;width: 1px;}#sk-container-id-8 div.sk-estimator {font-family: monospace;background-color: #f0f8ff;border: 1px dotted black;border-radius: 0.25em;box-sizing: border-box;margin-bottom: 0.5em;}#sk-container-id-8 div.sk-estimator:hover {background-color: #d4ebff;}#sk-container-id-8 div.sk-parallel-item::after {content: \"\";width: 100%;border-bottom: 1px solid gray;flex-grow: 1;}#sk-container-id-8 div.sk-label:hover label.sk-toggleable__label {background-color: #d4ebff;}#sk-container-id-8 div.sk-serial::before {content: \"\";position: absolute;border-left: 1px solid gray;box-sizing: border-box;top: 0;bottom: 0;left: 50%;z-index: 0;}#sk-container-id-8 div.sk-serial {display: flex;flex-direction: column;align-items: center;background-color: white;padding-right: 0.2em;padding-left: 0.2em;position: relative;}#sk-container-id-8 div.sk-item {position: relative;z-index: 1;}#sk-container-id-8 div.sk-parallel {display: flex;align-items: stretch;justify-content: center;background-color: white;position: relative;}#sk-container-id-8 div.sk-item::before, #sk-container-id-8 div.sk-parallel-item::before {content: \"\";position: absolute;border-left: 1px solid gray;box-sizing: border-box;top: 0;bottom: 0;left: 50%;z-index: -1;}#sk-container-id-8 div.sk-parallel-item {display: flex;flex-direction: column;z-index: 1;position: relative;background-color: white;}#sk-container-id-8 div.sk-parallel-item:first-child::after {align-self: flex-end;width: 50%;}#sk-container-id-8 div.sk-parallel-item:last-child::after {align-self: flex-start;width: 50%;}#sk-container-id-8 div.sk-parallel-item:only-child::after {width: 0;}#sk-container-id-8 div.sk-dashed-wrapped {border: 1px dashed gray;margin: 0 0.4em 0.5em 0.4em;box-sizing: border-box;padding-bottom: 0.4em;background-color: white;}#sk-container-id-8 div.sk-label label {font-family: monospace;font-weight: bold;display: inline-block;line-height: 1.2em;}#sk-container-id-8 div.sk-label-container {text-align: center;}#sk-container-id-8 div.sk-container {/* jupyter's `normalize.less` sets `[hidden] { display: none; }` but bootstrap.min.css set `[hidden] { display: none !important; }` so we also need the `!important` here to be able to override the default hidden behavior on the sphinx rendered scikit-learn.org. See: https://github.com/scikit-learn/scikit-learn/issues/21755 */display: inline-block !important;position: relative;}#sk-container-id-8 div.sk-text-repr-fallback {display: none;}</style><div id=\"sk-container-id-8\" class=\"sk-top-container\"><div class=\"sk-text-repr-fallback\"><pre>RandomForestRegressor(max_features=20, random_state=42)</pre><b>In a Jupyter environment, please rerun this cell to show the HTML representation or trust the notebook. <br />On GitHub, the HTML representation is unable to render, please try loading this page with nbviewer.org.</b></div><div class=\"sk-container\" hidden><div class=\"sk-item\"><div class=\"sk-estimator sk-toggleable\"><input class=\"sk-toggleable__control sk-hidden--visually\" id=\"sk-estimator-id-8\" type=\"checkbox\" checked><label for=\"sk-estimator-id-8\" class=\"sk-toggleable__label sk-toggleable__label-arrow\">RandomForestRegressor</label><div class=\"sk-toggleable__content\"><pre>RandomForestRegressor(max_features=20, random_state=42)</pre></div></div></div></div></div>"
            ],
            "text/plain": [
              "RandomForestRegressor(max_features=20, random_state=42)"
            ]
          },
          "execution_count": 73,
          "metadata": {},
          "output_type": "execute_result"
        }
      ],
      "source": [
        "# lets tune the model by adding the parameters to learn from\n",
        "forest_new = RandomForestRegressor(random_state=42, max_features=20)\n",
        "forest_new.fit(x_test, y_test)"
      ]
    },
    {
      "cell_type": "code",
      "execution_count": null,
      "metadata": {
        "colab": {
          "base_uri": "https://localhost:8080/"
        },
        "id": "gaOhyBS25jTh",
        "outputId": "be3fc086-450f-4cfb-8f26-c4c264ef9e47"
      },
      "outputs": [
        {
          "data": {
            "text/plain": [
              "(0.06824036374303315, 0.2612285660930541)"
            ]
          },
          "execution_count": 74,
          "metadata": {},
          "output_type": "execute_result"
        }
      ],
      "source": [
        "#checking the perfomance of the above model\n",
        "newForestPred = forest_new.predict(x_test)\n",
        "newForest_mse = mean_squared_error(y_test, newForestPred)\n",
        "newForest_rmse = np.sqrt(newForest_mse)\n",
        "newForest_mse, newForest_rmse"
      ]
    },
    {
      "cell_type": "code",
      "execution_count": null,
      "metadata": {
        "colab": {
          "base_uri": "https://localhost:8080/"
        },
        "id": "d7WLei95WRpq",
        "outputId": "e4c6fb75-ab59-40ba-919c-aa3a6e6598b3"
      },
      "outputs": [
        {
          "name": "stderr",
          "output_type": "stream",
          "text": [
            "/usr/local/lib/python3.9/dist-packages/IPython/core/interactiveshell.py:3326: DtypeWarning: Columns (25,108) have mixed types.Specify dtype option on import or set low_memory=False.\n",
            "  exec(code_obj, self.user_global_ns, self.user_ns)\n"
          ]
        }
      ],
      "source": [
        "## testing it on a new dataset\n",
        "testingDf = pd.read_csv('/content/drive/MyDrive/players_22.csv')\n",
        "new_test = testingDf[['potential', 'value_eur', 'wage_eur', \n",
        "            'age',  'height_cm', 'weight_kg', \n",
        "            'pace',\n",
        "          'shooting',\n",
        "          'passing',\n",
        "          'dribbling',\n",
        "          'defending',\n",
        "          'physic',\n",
        "          'attacking_crossing',\n",
        "          'attacking_finishing',\n",
        "          'attacking_heading_accuracy',\n",
        "          'attacking_short_passing',\n",
        "          'attacking_volleys',\n",
        "          'skill_dribbling',\n",
        "          'skill_curve',\n",
        "          'skill_fk_accuracy',\n",
        "          'skill_long_passing',\n",
        "          'skill_ball_control',\n",
        "          'movement_acceleration',\n",
        "          'movement_sprint_speed',\n",
        "          'movement_agility',\n",
        "          'movement_reactions',\n",
        "          'movement_balance',\n",
        "          'power_shot_power',\n",
        "          'power_jumping',\n",
        "          'power_stamina',\n",
        "          'power_strength',\n",
        "          'power_long_shots',\n",
        "          'mentality_aggression',\n",
        "          'mentality_interceptions',\n",
        "          'mentality_positioning',\n",
        "          'mentality_vision',\n",
        "          'mentality_penalties',\n",
        "          'mentality_composure',\n",
        "          'defending_marking_awareness',\n",
        "          'defending_standing_tackle',\n",
        "          'defending_sliding_tackle',\n",
        "          \n",
        "            ]].copy()"
      ]
    },
    {
      "cell_type": "code",
      "execution_count": null,
      "metadata": {
        "colab": {
          "base_uri": "https://localhost:8080/"
        },
        "id": "zxSoWGTkW8BO",
        "outputId": "7da28545-9a8c-454e-cbef-e6ba6e1c0555"
      },
      "outputs": [
        {
          "data": {
            "text/plain": [
              "array([91.64, 87.59, 87.11, ..., 49.14, 48.  , 49.22])"
            ]
          },
          "execution_count": 76,
          "metadata": {},
          "output_type": "execute_result"
        }
      ],
      "source": [
        "#making the predictions\n",
        "new_test = new_test.dropna()\n",
        "newPred = forest_new.predict(new_test)\n",
        "newPred"
      ]
    }
  ],
  "metadata": {
    "colab": {
      "provenance": []
    },
    "kernelspec": {
      "display_name": "Python 3",
      "name": "python3"
    },
    "language_info": {
      "name": "python",
      "version": "3.11.1"
    }
  },
  "nbformat": 4,
  "nbformat_minor": 0
}
